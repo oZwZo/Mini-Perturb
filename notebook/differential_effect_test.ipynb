{
 "cells": [
  {
   "cell_type": "code",
   "execution_count": 1,
   "metadata": {},
   "outputs": [
    {
     "data": {
      "text/plain": [
       "['GSE146128_TFnet_exon_counts.csv',\n",
       " 'GSE146128_exp1_exon_counts.csv',\n",
       " 'GSE146128_Tfnet_interactions_exon_counts.csv',\n",
       " 'GSE146128_TFnet_exon_counts.h5ad',\n",
       " 'GSE146128_Tfnet_interactions_exon_counts.h5ad',\n",
       " 'GSE146128_exp1_exon_counts.h5ad',\n",
       " 'TFnet_test_glm.h5ad',\n",
       " 'GLM_result.pkl',\n",
       " 'TFnet_test_glm_10xmatrices',\n",
       " 'TFnext_exon_2khvg_scTransform.rds']"
      ]
     },
     "execution_count": 1,
     "metadata": {},
     "output_type": "execute_result"
    }
   ],
   "source": [
    "import os, sys\n",
    "import scanpy as sc\n",
    "import numpy as np\n",
    "import pandas as pd\n",
    "from importlib import reload\n",
    "import anndata as ad\n",
    "import warnings\n",
    "from statsmodels.tools.sm_exceptions import ConvergenceWarning, ValueWarning, HessianInversionWarning\n",
    "# warnings.simplefilter('ignore', [ConvergenceWarning, ValueWarning, HessianInversionWarning])\n",
    "import warnings\n",
    "warnings.filterwarnings('ignore')\n",
    "\n",
    "main_dir = os.path.dirname(os.getcwd())\n",
    "data_dir = f\"{main_dir}/data/HoxB8\"\n",
    "os.listdir(data_dir)"
   ]
  },
  {
   "cell_type": "code",
   "execution_count": 2,
   "metadata": {},
   "outputs": [],
   "source": [
    "adata_hvg = sc.read_h5ad(f\"{data_dir}/TFnet_test_glm.h5ad\")\n",
    "Betas = adata_hvg.varm['GLM_Betas']"
   ]
  },
  {
   "cell_type": "code",
   "execution_count": 3,
   "metadata": {},
   "outputs": [
    {
     "data": {
      "text/plain": [
       "AnnData object with n_obs × n_vars = 1148 × 2000\n",
       "    obs: 'Plate', 'Well', 'TF', 'Guide'\n",
       "    var: 'Gene'\n",
       "    uns: 'NegBin_GLM'\n",
       "    varm: 'GLM_Betas'\n",
       "    layers: 'Counts'"
      ]
     },
     "execution_count": 3,
     "metadata": {},
     "output_type": "execute_result"
    }
   ],
   "source": [
    "adata_hvg"
   ]
  },
  {
   "cell_type": "code",
   "execution_count": 20,
   "metadata": {},
   "outputs": [
    {
     "data": {
      "text/plain": [
       "Sample\n",
       "RBG18345    Gata3\n",
       "RBG18346    Gata3\n",
       "RBG18347    Gata3\n",
       "RBG18348    Gata3\n",
       "RBG18349    Gata3\n",
       "            ...  \n",
       "RBG24132     Cbfb\n",
       "RBG24133     Cbfb\n",
       "RBG24134     Cbfb\n",
       "RBG24135     Cbfb\n",
       "RBG24136     Cbfb\n",
       "Name: TF, Length: 1148, dtype: category\n",
       "Categories (41, object): ['Cbfa2t3', 'Cbfb', 'Cebpa', 'Cebpb', ..., 'Zbtb17', 'Zfpm1', 'emptyV', 'noB']"
      ]
     },
     "execution_count": 20,
     "metadata": {},
     "output_type": "execute_result"
    }
   ],
   "source": [
    "adata_hvg.obs['TF']"
   ]
  },
  {
   "cell_type": "code",
   "execution_count": 22,
   "metadata": {},
   "outputs": [
    {
     "data": {
      "text/plain": [
       "Sample\n",
       "RBG18345     Plate5\n",
       "RBG18346     Plate5\n",
       "RBG18347     Plate5\n",
       "RBG18348     Plate5\n",
       "RBG18349     Plate5\n",
       "             ...   \n",
       "RBG24132    Plate18\n",
       "RBG24133    Plate18\n",
       "RBG24134    Plate18\n",
       "RBG24135    Plate18\n",
       "RBG24136    Plate18\n",
       "Name: Plate, Length: 1148, dtype: category\n",
       "Categories (13, object): ['Plate3', 'Plate4', 'Plate5', 'Plate6', ..., 'Plate15', 'Plate16', 'Plate17', 'Plate18']"
      ]
     },
     "execution_count": 22,
     "metadata": {},
     "output_type": "execute_result"
    }
   ],
   "source": [
    "adata_hvg.obs['Plate']"
   ]
  },
  {
   "attachments": {},
   "cell_type": "markdown",
   "metadata": {},
   "source": [
    "# set up api"
   ]
  },
  {
   "cell_type": "code",
   "execution_count": 4,
   "metadata": {},
   "outputs": [],
   "source": [
    "from MiniPert import model"
   ]
  },
  {
   "cell_type": "code",
   "execution_count": 5,
   "metadata": {},
   "outputs": [
    {
     "name": "stdout",
     "output_type": "stream",
     "text": [
      "Fitting Negative Binomial regression \n",
      "\tfor 2000 genes \n",
      "\twith 54 independent variables\n",
      "Gene ~ Gata3 + Gata2 + Nfe2 + emptyV + R26 +  ...  + Plate13 + Plate15 + Plate16 + Plate17 + Plate18\n"
     ]
    }
   ],
   "source": [
    "PGLM = model.Perturb_NBGLM(adata=adata_hvg, perturb_key='TF', plate_key=\"Plate\")"
   ]
  },
  {
   "cell_type": "code",
   "execution_count": 6,
   "metadata": {},
   "outputs": [
    {
     "name": "stdout",
     "output_type": "stream",
     "text": [
      "start fittings...\n"
     ]
    },
    {
     "name": "stderr",
     "output_type": "stream",
     "text": [
      "100%|██████████| 2000/2000 [11:44<00:00,  2.84it/s] "
     ]
    },
    {
     "name": "stdout",
     "output_type": "stream",
     "text": [
      "\n",
      " Done.\n",
      "Adding fitted coeffcients to adata.varm with key `Betas`\n"
     ]
    },
    {
     "name": "stderr",
     "output_type": "stream",
     "text": [
      "\n"
     ]
    }
   ],
   "source": [
    "# this step takes a long time\n",
    "PGLM.fit(n_jobs=40)\n",
    "\n",
    "# save the fitted result\n",
    "PGLM.save_to(\"/home/wergillius/Project/Alison_Project/result/checkpoint/Hoxb8_2k_fit.ckpt\")"
   ]
  },
  {
   "cell_type": "code",
   "execution_count": 8,
   "metadata": {},
   "outputs": [
    {
     "data": {
      "text/plain": [
       "54"
      ]
     },
     "execution_count": 8,
     "metadata": {},
     "output_type": "execute_result"
    }
   ],
   "source": [
    "len(PGLM.independent_variables)"
   ]
  },
  {
   "cell_type": "code",
   "execution_count": 33,
   "metadata": {},
   "outputs": [],
   "source": [
    "example_result = PGLM.result_dict['ENSMUSG00000000915']"
   ]
  },
  {
   "cell_type": "code",
   "execution_count": 47,
   "metadata": {},
   "outputs": [
    {
     "data": {
      "text/plain": [
       "<class 'statsmodels.stats.contrast.ContrastResults'>\n",
       "<F test: F=0.23197901301269633, p=0.630156527936335, df_denom=1.1e+03, df_num=1>"
      ]
     },
     "execution_count": 47,
     "metadata": {},
     "output_type": "execute_result"
    }
   ],
   "source": [
    "hypotheses = '(Gata2 = 0)'\n",
    "example_result.f_test(hypotheses)"
   ]
  },
  {
   "attachments": {},
   "cell_type": "markdown",
   "metadata": {},
   "source": [
    "# saving and loading"
   ]
  },
  {
   "cell_type": "code",
   "execution_count": null,
   "metadata": {},
   "outputs": [],
   "source": [
    "# initiate a model without fitting\n",
    "PGLM = model.Perturb_NBGLM(adata=adata_hvg, perturb_key='TF', plate_key=\"Plate\")\n",
    "\n",
    "# load the saved result\n",
    "PGLM.load_from(\"/home/wergillius/Project/Alison_Project/result/checkpoint/Hoxb8_2k_fit.ckpt\")"
   ]
  },
  {
   "cell_type": "code",
   "execution_count": 7,
   "metadata": {},
   "outputs": [
    {
     "data": {
      "text/plain": [
       "<statsmodels.genmod.generalized_linear_model.GLM at 0x7f51ad26dc10>"
      ]
     },
     "execution_count": 7,
     "metadata": {},
     "output_type": "execute_result"
    }
   ],
   "source": [
    "PGLM.model_dict['ENSMUSG00000000555']"
   ]
  },
  {
   "cell_type": "code",
   "execution_count": 9,
   "metadata": {},
   "outputs": [
    {
     "data": {
      "text/html": [
       "<table class=\"simpletable\">\n",
       "<caption>Generalized Linear Model Regression Results</caption>\n",
       "<tr>\n",
       "  <th>Dep. Variable:</th>   <td>ENSMUSG00000000555</td> <th>  No. Observations:  </th>  <td>  1148</td> \n",
       "</tr>\n",
       "<tr>\n",
       "  <th>Model:</th>                   <td>GLM</td>        <th>  Df Residuals:      </th>  <td>  1095</td> \n",
       "</tr>\n",
       "<tr>\n",
       "  <th>Model Family:</th>     <td>NegativeBinomial</td>  <th>  Df Model:          </th>  <td>    52</td> \n",
       "</tr>\n",
       "<tr>\n",
       "  <th>Link Function:</th>           <td>Log</td>        <th>  Scale:             </th> <td>  1.0000</td>\n",
       "</tr>\n",
       "<tr>\n",
       "  <th>Method:</th>                 <td>IRLS</td>        <th>  Log-Likelihood:    </th> <td> -6398.6</td>\n",
       "</tr>\n",
       "<tr>\n",
       "  <th>Date:</th>             <td>Mon, 22 May 2023</td>  <th>  Deviance:          </th> <td>  70.384</td>\n",
       "</tr>\n",
       "<tr>\n",
       "  <th>Time:</th>                 <td>13:09:56</td>      <th>  Pearson chi2:      </th>  <td>  67.0</td> \n",
       "</tr>\n",
       "<tr>\n",
       "  <th>No. Iterations:</th>          <td>100</td>        <th>  Pseudo R-squ. (CS):</th>  <td>0.1534</td> \n",
       "</tr>\n",
       "<tr>\n",
       "  <th>Covariance Type:</th>      <td>nonrobust</td>     <th>                     </th>     <td> </td>   \n",
       "</tr>\n",
       "</table>\n",
       "<table class=\"simpletable\">\n",
       "<tr>\n",
       "      <td></td>         <th>coef</th>     <th>std err</th>      <th>z</th>      <th>P>|z|</th>  <th>[0.025</th>    <th>0.975]</th>  \n",
       "</tr>\n",
       "<tr>\n",
       "  <th>Intercept</th> <td>   -0.0321</td> <td>    0.030</td> <td>   -1.055</td> <td> 0.292</td> <td>   -0.092</td> <td>    0.028</td>\n",
       "</tr>\n",
       "<tr>\n",
       "  <th>Gata3</th>     <td>   -0.0686</td> <td>    0.318</td> <td>   -0.216</td> <td> 0.829</td> <td>   -0.693</td> <td>    0.555</td>\n",
       "</tr>\n",
       "<tr>\n",
       "  <th>Gata2</th>     <td>    0.0091</td> <td>    0.318</td> <td>    0.029</td> <td> 0.977</td> <td>   -0.615</td> <td>    0.633</td>\n",
       "</tr>\n",
       "<tr>\n",
       "  <th>Nfe2</th>      <td>   -0.0103</td> <td>    0.318</td> <td>   -0.032</td> <td> 0.974</td> <td>   -0.634</td> <td>    0.614</td>\n",
       "</tr>\n",
       "<tr>\n",
       "  <th>emptyV</th>    <td>    0.0600</td> <td>    0.095</td> <td>    0.629</td> <td> 0.529</td> <td>   -0.127</td> <td>    0.247</td>\n",
       "</tr>\n",
       "<tr>\n",
       "  <th>R26</th>       <td>    0.0090</td> <td>    0.102</td> <td>    0.088</td> <td> 0.930</td> <td>   -0.191</td> <td>    0.209</td>\n",
       "</tr>\n",
       "<tr>\n",
       "  <th>Tcf3</th>      <td>    0.0579</td> <td>    0.315</td> <td>    0.184</td> <td> 0.854</td> <td>   -0.559</td> <td>    0.674</td>\n",
       "</tr>\n",
       "<tr>\n",
       "  <th>Gfi1b</th>     <td>   -0.0326</td> <td>    0.315</td> <td>   -0.104</td> <td> 0.917</td> <td>   -0.649</td> <td>    0.584</td>\n",
       "</tr>\n",
       "<tr>\n",
       "  <th>Egr1</th>      <td>   -0.0072</td> <td>    0.315</td> <td>   -0.023</td> <td> 0.982</td> <td>   -0.624</td> <td>    0.609</td>\n",
       "</tr>\n",
       "<tr>\n",
       "  <th>Cebpa</th>     <td>   -0.0618</td> <td>    0.315</td> <td>   -0.197</td> <td> 0.844</td> <td>   -0.678</td> <td>    0.555</td>\n",
       "</tr>\n",
       "<tr>\n",
       "  <th>Ldb1</th>      <td>    0.0750</td> <td>    0.314</td> <td>    0.238</td> <td> 0.812</td> <td>   -0.541</td> <td>    0.691</td>\n",
       "</tr>\n",
       "<tr>\n",
       "  <th>Lmo2</th>      <td>   -0.0288</td> <td>    0.315</td> <td>   -0.092</td> <td> 0.927</td> <td>   -0.646</td> <td>    0.588</td>\n",
       "</tr>\n",
       "<tr>\n",
       "  <th>Myb</th>       <td>   -0.0940</td> <td>    0.318</td> <td>   -0.295</td> <td> 0.768</td> <td>   -0.718</td> <td>    0.530</td>\n",
       "</tr>\n",
       "<tr>\n",
       "  <th>Rad21</th>     <td>   -0.0011</td> <td>    0.318</td> <td>   -0.003</td> <td> 0.997</td> <td>   -0.625</td> <td>    0.623</td>\n",
       "</tr>\n",
       "<tr>\n",
       "  <th>Myc</th>       <td>    0.1085</td> <td>    0.320</td> <td>    0.339</td> <td> 0.734</td> <td>   -0.518</td> <td>    0.735</td>\n",
       "</tr>\n",
       "<tr>\n",
       "  <th>Cbfa2t3</th>   <td>    0.1590</td> <td>    0.315</td> <td>    0.505</td> <td> 0.613</td> <td>   -0.458</td> <td>    0.776</td>\n",
       "</tr>\n",
       "<tr>\n",
       "  <th>Tal1</th>      <td>    0.2202</td> <td>    0.315</td> <td>    0.700</td> <td> 0.484</td> <td>   -0.397</td> <td>    0.837</td>\n",
       "</tr>\n",
       "<tr>\n",
       "  <th>E2F4</th>      <td>    0.1133</td> <td>    0.315</td> <td>    0.360</td> <td> 0.719</td> <td>   -0.504</td> <td>    0.730</td>\n",
       "</tr>\n",
       "<tr>\n",
       "  <th>Spi1</th>      <td>    0.0777</td> <td>    0.314</td> <td>    0.247</td> <td> 0.805</td> <td>   -0.538</td> <td>    0.694</td>\n",
       "</tr>\n",
       "<tr>\n",
       "  <th>Elf1</th>      <td>   -0.0715</td> <td>    0.314</td> <td>   -0.227</td> <td> 0.820</td> <td>   -0.688</td> <td>    0.545</td>\n",
       "</tr>\n",
       "<tr>\n",
       "  <th>Erg</th>       <td>   -0.1521</td> <td>    0.314</td> <td>   -0.484</td> <td> 0.629</td> <td>   -0.768</td> <td>    0.464</td>\n",
       "</tr>\n",
       "<tr>\n",
       "  <th>Mitf</th>      <td>    0.0442</td> <td>    0.317</td> <td>    0.139</td> <td> 0.889</td> <td>   -0.578</td> <td>    0.666</td>\n",
       "</tr>\n",
       "<tr>\n",
       "  <th>Zfpm1</th>     <td>    0.0477</td> <td>    0.315</td> <td>    0.152</td> <td> 0.879</td> <td>   -0.569</td> <td>    0.664</td>\n",
       "</tr>\n",
       "<tr>\n",
       "  <th>Hoxa9</th>     <td>   -0.0245</td> <td>    0.317</td> <td>   -0.077</td> <td> 0.939</td> <td>   -0.647</td> <td>    0.598</td>\n",
       "</tr>\n",
       "<tr>\n",
       "  <th>Jun</th>       <td>   -0.0306</td> <td>    0.314</td> <td>   -0.097</td> <td> 0.922</td> <td>   -0.647</td> <td>    0.586</td>\n",
       "</tr>\n",
       "<tr>\n",
       "  <th>Fos</th>       <td>   -0.0961</td> <td>    0.315</td> <td>   -0.305</td> <td> 0.760</td> <td>   -0.713</td> <td>    0.521</td>\n",
       "</tr>\n",
       "<tr>\n",
       "  <th>Max</th>       <td>   -0.0669</td> <td>    0.315</td> <td>   -0.212</td> <td> 0.832</td> <td>   -0.684</td> <td>    0.550</td>\n",
       "</tr>\n",
       "<tr>\n",
       "  <th>Meis1</th>     <td>   -0.0059</td> <td>    0.322</td> <td>   -0.018</td> <td> 0.985</td> <td>   -0.638</td> <td>    0.626</td>\n",
       "</tr>\n",
       "<tr>\n",
       "  <th>Runx1</th>     <td>    0.0889</td> <td>    0.322</td> <td>    0.276</td> <td> 0.783</td> <td>   -0.543</td> <td>    0.721</td>\n",
       "</tr>\n",
       "<tr>\n",
       "  <th>Gfi1</th>      <td>    0.0487</td> <td>    0.310</td> <td>    0.157</td> <td> 0.875</td> <td>   -0.559</td> <td>    0.656</td>\n",
       "</tr>\n",
       "<tr>\n",
       "  <th>Ikzf1</th>     <td>    0.2621</td> <td>    0.310</td> <td>    0.846</td> <td> 0.397</td> <td>   -0.345</td> <td>    0.869</td>\n",
       "</tr>\n",
       "<tr>\n",
       "  <th>Nfic</th>      <td>   -0.0095</td> <td>    0.310</td> <td>   -0.031</td> <td> 0.976</td> <td>   -0.617</td> <td>    0.598</td>\n",
       "</tr>\n",
       "<tr>\n",
       "  <th>noB</th>       <td>   -0.0498</td> <td>    0.419</td> <td>   -0.119</td> <td> 0.905</td> <td>   -0.872</td> <td>    0.772</td>\n",
       "</tr>\n",
       "<tr>\n",
       "  <th>Cebpb</th>     <td>    0.0792</td> <td>    0.293</td> <td>    0.270</td> <td> 0.787</td> <td>   -0.495</td> <td>    0.653</td>\n",
       "</tr>\n",
       "<tr>\n",
       "  <th>Ebf1</th>      <td>    0.0651</td> <td>    0.290</td> <td>    0.225</td> <td> 0.822</td> <td>   -0.503</td> <td>    0.633</td>\n",
       "</tr>\n",
       "<tr>\n",
       "  <th>Crtc1</th>     <td>   -0.0318</td> <td>    0.293</td> <td>   -0.109</td> <td> 0.914</td> <td>   -0.606</td> <td>    0.542</td>\n",
       "</tr>\n",
       "<tr>\n",
       "  <th>Klf6</th>      <td>   -0.0431</td> <td>    0.286</td> <td>   -0.151</td> <td> 0.880</td> <td>   -0.604</td> <td>    0.518</td>\n",
       "</tr>\n",
       "<tr>\n",
       "  <th>Foxo1</th>     <td>   -0.1747</td> <td>    0.287</td> <td>   -0.610</td> <td> 0.542</td> <td>   -0.736</td> <td>    0.387</td>\n",
       "</tr>\n",
       "<tr>\n",
       "  <th>Fli1</th>      <td>   -0.2966</td> <td>    0.290</td> <td>   -1.025</td> <td> 0.306</td> <td>   -0.864</td> <td>    0.271</td>\n",
       "</tr>\n",
       "<tr>\n",
       "  <th>Zbtb17</th>    <td>   -0.0741</td> <td>    0.287</td> <td>   -0.258</td> <td> 0.796</td> <td>   -0.637</td> <td>    0.489</td>\n",
       "</tr>\n",
       "<tr>\n",
       "  <th>Runx2</th>     <td>   -0.0516</td> <td>    0.287</td> <td>   -0.180</td> <td> 0.857</td> <td>   -0.614</td> <td>    0.511</td>\n",
       "</tr>\n",
       "<tr>\n",
       "  <th>Cbfb</th>      <td>   -0.0745</td> <td>    0.287</td> <td>   -0.259</td> <td> 0.795</td> <td>   -0.637</td> <td>    0.488</td>\n",
       "</tr>\n",
       "<tr>\n",
       "  <th>Plate5</th>    <td>    0.2633</td> <td>    0.245</td> <td>    1.073</td> <td> 0.283</td> <td>   -0.218</td> <td>    0.744</td>\n",
       "</tr>\n",
       "<tr>\n",
       "  <th>Plate6</th>    <td>    0.2244</td> <td>    0.241</td> <td>    0.933</td> <td> 0.351</td> <td>   -0.247</td> <td>    0.696</td>\n",
       "</tr>\n",
       "<tr>\n",
       "  <th>Plate7</th>    <td>    0.2454</td> <td>    0.241</td> <td>    1.020</td> <td> 0.308</td> <td>   -0.226</td> <td>    0.717</td>\n",
       "</tr>\n",
       "<tr>\n",
       "  <th>Plate8</th>    <td>    0.1112</td> <td>    0.245</td> <td>    0.453</td> <td> 0.650</td> <td>   -0.370</td> <td>    0.592</td>\n",
       "</tr>\n",
       "<tr>\n",
       "  <th>Plate3</th>    <td>    0.0544</td> <td>    0.241</td> <td>    0.226</td> <td> 0.821</td> <td>   -0.418</td> <td>    0.526</td>\n",
       "</tr>\n",
       "<tr>\n",
       "  <th>Plate4</th>    <td>    0.3520</td> <td>    0.240</td> <td>    1.464</td> <td> 0.143</td> <td>   -0.119</td> <td>    0.823</td>\n",
       "</tr>\n",
       "<tr>\n",
       "  <th>Plate12</th>   <td>    0.2123</td> <td>    0.241</td> <td>    0.882</td> <td> 0.378</td> <td>   -0.259</td> <td>    0.684</td>\n",
       "</tr>\n",
       "<tr>\n",
       "  <th>Plate9</th>    <td>    0.2608</td> <td>    0.240</td> <td>    1.084</td> <td> 0.278</td> <td>   -0.211</td> <td>    0.732</td>\n",
       "</tr>\n",
       "<tr>\n",
       "  <th>Plate13</th>   <td>    0.2775</td> <td>    0.245</td> <td>    1.132</td> <td> 0.257</td> <td>   -0.203</td> <td>    0.758</td>\n",
       "</tr>\n",
       "<tr>\n",
       "  <th>Plate15</th>   <td>    0.1949</td> <td>    0.240</td> <td>    0.812</td> <td> 0.417</td> <td>   -0.276</td> <td>    0.665</td>\n",
       "</tr>\n",
       "<tr>\n",
       "  <th>Plate16</th>   <td>   -0.9356</td> <td>    0.206</td> <td>   -4.544</td> <td> 0.000</td> <td>   -1.339</td> <td>   -0.532</td>\n",
       "</tr>\n",
       "<tr>\n",
       "  <th>Plate17</th>   <td>   -0.5500</td> <td>    0.202</td> <td>   -2.727</td> <td> 0.006</td> <td>   -0.945</td> <td>   -0.155</td>\n",
       "</tr>\n",
       "<tr>\n",
       "  <th>Plate18</th>   <td>   -0.7426</td> <td>    0.202</td> <td>   -3.676</td> <td> 0.000</td> <td>   -1.139</td> <td>   -0.347</td>\n",
       "</tr>\n",
       "</table>"
      ],
      "text/latex": [
       "\\begin{center}\n",
       "\\begin{tabular}{lclc}\n",
       "\\toprule\n",
       "\\textbf{Dep. Variable:}   & ENSMUSG00000000555 & \\textbf{  No. Observations:  } &     1148    \\\\\n",
       "\\textbf{Model:}           &        GLM         & \\textbf{  Df Residuals:      } &     1095    \\\\\n",
       "\\textbf{Model Family:}    &  NegativeBinomial  & \\textbf{  Df Model:          } &       52    \\\\\n",
       "\\textbf{Link Function:}   &        Log         & \\textbf{  Scale:             } &    1.0000   \\\\\n",
       "\\textbf{Method:}          &        IRLS        & \\textbf{  Log-Likelihood:    } &   -6398.6   \\\\\n",
       "\\textbf{Date:}            &  Mon, 22 May 2023  & \\textbf{  Deviance:          } &    70.384   \\\\\n",
       "\\textbf{Time:}            &      13:09:56      & \\textbf{  Pearson chi2:      } &     67.0    \\\\\n",
       "\\textbf{No. Iterations:}  &        100         & \\textbf{  Pseudo R-squ. (CS):} &   0.1534    \\\\\n",
       "\\textbf{Covariance Type:} &     nonrobust      & \\textbf{                     } &             \\\\\n",
       "\\bottomrule\n",
       "\\end{tabular}\n",
       "\\begin{tabular}{lcccccc}\n",
       "                   & \\textbf{coef} & \\textbf{std err} & \\textbf{z} & \\textbf{P$> |$z$|$} & \\textbf{[0.025} & \\textbf{0.975]}  \\\\\n",
       "\\midrule\n",
       "\\textbf{Intercept} &      -0.0321  &        0.030     &    -1.055  &         0.292        &       -0.092    &        0.028     \\\\\n",
       "\\textbf{Gata3}     &      -0.0686  &        0.318     &    -0.216  &         0.829        &       -0.693    &        0.555     \\\\\n",
       "\\textbf{Gata2}     &       0.0091  &        0.318     &     0.029  &         0.977        &       -0.615    &        0.633     \\\\\n",
       "\\textbf{Nfe2}      &      -0.0103  &        0.318     &    -0.032  &         0.974        &       -0.634    &        0.614     \\\\\n",
       "\\textbf{emptyV}    &       0.0600  &        0.095     &     0.629  &         0.529        &       -0.127    &        0.247     \\\\\n",
       "\\textbf{R26}       &       0.0090  &        0.102     &     0.088  &         0.930        &       -0.191    &        0.209     \\\\\n",
       "\\textbf{Tcf3}      &       0.0579  &        0.315     &     0.184  &         0.854        &       -0.559    &        0.674     \\\\\n",
       "\\textbf{Gfi1b}     &      -0.0326  &        0.315     &    -0.104  &         0.917        &       -0.649    &        0.584     \\\\\n",
       "\\textbf{Egr1}      &      -0.0072  &        0.315     &    -0.023  &         0.982        &       -0.624    &        0.609     \\\\\n",
       "\\textbf{Cebpa}     &      -0.0618  &        0.315     &    -0.197  &         0.844        &       -0.678    &        0.555     \\\\\n",
       "\\textbf{Ldb1}      &       0.0750  &        0.314     &     0.238  &         0.812        &       -0.541    &        0.691     \\\\\n",
       "\\textbf{Lmo2}      &      -0.0288  &        0.315     &    -0.092  &         0.927        &       -0.646    &        0.588     \\\\\n",
       "\\textbf{Myb}       &      -0.0940  &        0.318     &    -0.295  &         0.768        &       -0.718    &        0.530     \\\\\n",
       "\\textbf{Rad21}     &      -0.0011  &        0.318     &    -0.003  &         0.997        &       -0.625    &        0.623     \\\\\n",
       "\\textbf{Myc}       &       0.1085  &        0.320     &     0.339  &         0.734        &       -0.518    &        0.735     \\\\\n",
       "\\textbf{Cbfa2t3}   &       0.1590  &        0.315     &     0.505  &         0.613        &       -0.458    &        0.776     \\\\\n",
       "\\textbf{Tal1}      &       0.2202  &        0.315     &     0.700  &         0.484        &       -0.397    &        0.837     \\\\\n",
       "\\textbf{E2F4}      &       0.1133  &        0.315     &     0.360  &         0.719        &       -0.504    &        0.730     \\\\\n",
       "\\textbf{Spi1}      &       0.0777  &        0.314     &     0.247  &         0.805        &       -0.538    &        0.694     \\\\\n",
       "\\textbf{Elf1}      &      -0.0715  &        0.314     &    -0.227  &         0.820        &       -0.688    &        0.545     \\\\\n",
       "\\textbf{Erg}       &      -0.1521  &        0.314     &    -0.484  &         0.629        &       -0.768    &        0.464     \\\\\n",
       "\\textbf{Mitf}      &       0.0442  &        0.317     &     0.139  &         0.889        &       -0.578    &        0.666     \\\\\n",
       "\\textbf{Zfpm1}     &       0.0477  &        0.315     &     0.152  &         0.879        &       -0.569    &        0.664     \\\\\n",
       "\\textbf{Hoxa9}     &      -0.0245  &        0.317     &    -0.077  &         0.939        &       -0.647    &        0.598     \\\\\n",
       "\\textbf{Jun}       &      -0.0306  &        0.314     &    -0.097  &         0.922        &       -0.647    &        0.586     \\\\\n",
       "\\textbf{Fos}       &      -0.0961  &        0.315     &    -0.305  &         0.760        &       -0.713    &        0.521     \\\\\n",
       "\\textbf{Max}       &      -0.0669  &        0.315     &    -0.212  &         0.832        &       -0.684    &        0.550     \\\\\n",
       "\\textbf{Meis1}     &      -0.0059  &        0.322     &    -0.018  &         0.985        &       -0.638    &        0.626     \\\\\n",
       "\\textbf{Runx1}     &       0.0889  &        0.322     &     0.276  &         0.783        &       -0.543    &        0.721     \\\\\n",
       "\\textbf{Gfi1}      &       0.0487  &        0.310     &     0.157  &         0.875        &       -0.559    &        0.656     \\\\\n",
       "\\textbf{Ikzf1}     &       0.2621  &        0.310     &     0.846  &         0.397        &       -0.345    &        0.869     \\\\\n",
       "\\textbf{Nfic}      &      -0.0095  &        0.310     &    -0.031  &         0.976        &       -0.617    &        0.598     \\\\\n",
       "\\textbf{noB}       &      -0.0498  &        0.419     &    -0.119  &         0.905        &       -0.872    &        0.772     \\\\\n",
       "\\textbf{Cebpb}     &       0.0792  &        0.293     &     0.270  &         0.787        &       -0.495    &        0.653     \\\\\n",
       "\\textbf{Ebf1}      &       0.0651  &        0.290     &     0.225  &         0.822        &       -0.503    &        0.633     \\\\\n",
       "\\textbf{Crtc1}     &      -0.0318  &        0.293     &    -0.109  &         0.914        &       -0.606    &        0.542     \\\\\n",
       "\\textbf{Klf6}      &      -0.0431  &        0.286     &    -0.151  &         0.880        &       -0.604    &        0.518     \\\\\n",
       "\\textbf{Foxo1}     &      -0.1747  &        0.287     &    -0.610  &         0.542        &       -0.736    &        0.387     \\\\\n",
       "\\textbf{Fli1}      &      -0.2966  &        0.290     &    -1.025  &         0.306        &       -0.864    &        0.271     \\\\\n",
       "\\textbf{Zbtb17}    &      -0.0741  &        0.287     &    -0.258  &         0.796        &       -0.637    &        0.489     \\\\\n",
       "\\textbf{Runx2}     &      -0.0516  &        0.287     &    -0.180  &         0.857        &       -0.614    &        0.511     \\\\\n",
       "\\textbf{Cbfb}      &      -0.0745  &        0.287     &    -0.259  &         0.795        &       -0.637    &        0.488     \\\\\n",
       "\\textbf{Plate5}    &       0.2633  &        0.245     &     1.073  &         0.283        &       -0.218    &        0.744     \\\\\n",
       "\\textbf{Plate6}    &       0.2244  &        0.241     &     0.933  &         0.351        &       -0.247    &        0.696     \\\\\n",
       "\\textbf{Plate7}    &       0.2454  &        0.241     &     1.020  &         0.308        &       -0.226    &        0.717     \\\\\n",
       "\\textbf{Plate8}    &       0.1112  &        0.245     &     0.453  &         0.650        &       -0.370    &        0.592     \\\\\n",
       "\\textbf{Plate3}    &       0.0544  &        0.241     &     0.226  &         0.821        &       -0.418    &        0.526     \\\\\n",
       "\\textbf{Plate4}    &       0.3520  &        0.240     &     1.464  &         0.143        &       -0.119    &        0.823     \\\\\n",
       "\\textbf{Plate12}   &       0.2123  &        0.241     &     0.882  &         0.378        &       -0.259    &        0.684     \\\\\n",
       "\\textbf{Plate9}    &       0.2608  &        0.240     &     1.084  &         0.278        &       -0.211    &        0.732     \\\\\n",
       "\\textbf{Plate13}   &       0.2775  &        0.245     &     1.132  &         0.257        &       -0.203    &        0.758     \\\\\n",
       "\\textbf{Plate15}   &       0.1949  &        0.240     &     0.812  &         0.417        &       -0.276    &        0.665     \\\\\n",
       "\\textbf{Plate16}   &      -0.9356  &        0.206     &    -4.544  &         0.000        &       -1.339    &       -0.532     \\\\\n",
       "\\textbf{Plate17}   &      -0.5500  &        0.202     &    -2.727  &         0.006        &       -0.945    &       -0.155     \\\\\n",
       "\\textbf{Plate18}   &      -0.7426  &        0.202     &    -3.676  &         0.000        &       -1.139    &       -0.347     \\\\\n",
       "\\bottomrule\n",
       "\\end{tabular}\n",
       "%\\caption{Generalized Linear Model Regression Results}\n",
       "\\end{center}"
      ],
      "text/plain": [
       "<class 'statsmodels.iolib.summary.Summary'>\n",
       "\"\"\"\n",
       "                 Generalized Linear Model Regression Results                  \n",
       "==============================================================================\n",
       "Dep. Variable:     ENSMUSG00000000555   No. Observations:                 1148\n",
       "Model:                            GLM   Df Residuals:                     1095\n",
       "Model Family:        NegativeBinomial   Df Model:                           52\n",
       "Link Function:                    Log   Scale:                          1.0000\n",
       "Method:                          IRLS   Log-Likelihood:                -6398.6\n",
       "Date:                Mon, 22 May 2023   Deviance:                       70.384\n",
       "Time:                        13:09:56   Pearson chi2:                     67.0\n",
       "No. Iterations:                   100   Pseudo R-squ. (CS):             0.1534\n",
       "Covariance Type:            nonrobust                                         \n",
       "==============================================================================\n",
       "                 coef    std err          z      P>|z|      [0.025      0.975]\n",
       "------------------------------------------------------------------------------\n",
       "Intercept     -0.0321      0.030     -1.055      0.292      -0.092       0.028\n",
       "Gata3         -0.0686      0.318     -0.216      0.829      -0.693       0.555\n",
       "Gata2          0.0091      0.318      0.029      0.977      -0.615       0.633\n",
       "Nfe2          -0.0103      0.318     -0.032      0.974      -0.634       0.614\n",
       "emptyV         0.0600      0.095      0.629      0.529      -0.127       0.247\n",
       "R26            0.0090      0.102      0.088      0.930      -0.191       0.209\n",
       "Tcf3           0.0579      0.315      0.184      0.854      -0.559       0.674\n",
       "Gfi1b         -0.0326      0.315     -0.104      0.917      -0.649       0.584\n",
       "Egr1          -0.0072      0.315     -0.023      0.982      -0.624       0.609\n",
       "Cebpa         -0.0618      0.315     -0.197      0.844      -0.678       0.555\n",
       "Ldb1           0.0750      0.314      0.238      0.812      -0.541       0.691\n",
       "Lmo2          -0.0288      0.315     -0.092      0.927      -0.646       0.588\n",
       "Myb           -0.0940      0.318     -0.295      0.768      -0.718       0.530\n",
       "Rad21         -0.0011      0.318     -0.003      0.997      -0.625       0.623\n",
       "Myc            0.1085      0.320      0.339      0.734      -0.518       0.735\n",
       "Cbfa2t3        0.1590      0.315      0.505      0.613      -0.458       0.776\n",
       "Tal1           0.2202      0.315      0.700      0.484      -0.397       0.837\n",
       "E2F4           0.1133      0.315      0.360      0.719      -0.504       0.730\n",
       "Spi1           0.0777      0.314      0.247      0.805      -0.538       0.694\n",
       "Elf1          -0.0715      0.314     -0.227      0.820      -0.688       0.545\n",
       "Erg           -0.1521      0.314     -0.484      0.629      -0.768       0.464\n",
       "Mitf           0.0442      0.317      0.139      0.889      -0.578       0.666\n",
       "Zfpm1          0.0477      0.315      0.152      0.879      -0.569       0.664\n",
       "Hoxa9         -0.0245      0.317     -0.077      0.939      -0.647       0.598\n",
       "Jun           -0.0306      0.314     -0.097      0.922      -0.647       0.586\n",
       "Fos           -0.0961      0.315     -0.305      0.760      -0.713       0.521\n",
       "Max           -0.0669      0.315     -0.212      0.832      -0.684       0.550\n",
       "Meis1         -0.0059      0.322     -0.018      0.985      -0.638       0.626\n",
       "Runx1          0.0889      0.322      0.276      0.783      -0.543       0.721\n",
       "Gfi1           0.0487      0.310      0.157      0.875      -0.559       0.656\n",
       "Ikzf1          0.2621      0.310      0.846      0.397      -0.345       0.869\n",
       "Nfic          -0.0095      0.310     -0.031      0.976      -0.617       0.598\n",
       "noB           -0.0498      0.419     -0.119      0.905      -0.872       0.772\n",
       "Cebpb          0.0792      0.293      0.270      0.787      -0.495       0.653\n",
       "Ebf1           0.0651      0.290      0.225      0.822      -0.503       0.633\n",
       "Crtc1         -0.0318      0.293     -0.109      0.914      -0.606       0.542\n",
       "Klf6          -0.0431      0.286     -0.151      0.880      -0.604       0.518\n",
       "Foxo1         -0.1747      0.287     -0.610      0.542      -0.736       0.387\n",
       "Fli1          -0.2966      0.290     -1.025      0.306      -0.864       0.271\n",
       "Zbtb17        -0.0741      0.287     -0.258      0.796      -0.637       0.489\n",
       "Runx2         -0.0516      0.287     -0.180      0.857      -0.614       0.511\n",
       "Cbfb          -0.0745      0.287     -0.259      0.795      -0.637       0.488\n",
       "Plate5         0.2633      0.245      1.073      0.283      -0.218       0.744\n",
       "Plate6         0.2244      0.241      0.933      0.351      -0.247       0.696\n",
       "Plate7         0.2454      0.241      1.020      0.308      -0.226       0.717\n",
       "Plate8         0.1112      0.245      0.453      0.650      -0.370       0.592\n",
       "Plate3         0.0544      0.241      0.226      0.821      -0.418       0.526\n",
       "Plate4         0.3520      0.240      1.464      0.143      -0.119       0.823\n",
       "Plate12        0.2123      0.241      0.882      0.378      -0.259       0.684\n",
       "Plate9         0.2608      0.240      1.084      0.278      -0.211       0.732\n",
       "Plate13        0.2775      0.245      1.132      0.257      -0.203       0.758\n",
       "Plate15        0.1949      0.240      0.812      0.417      -0.276       0.665\n",
       "Plate16       -0.9356      0.206     -4.544      0.000      -1.339      -0.532\n",
       "Plate17       -0.5500      0.202     -2.727      0.006      -0.945      -0.155\n",
       "Plate18       -0.7426      0.202     -3.676      0.000      -1.139      -0.347\n",
       "==============================================================================\n",
       "\"\"\""
      ]
     },
     "execution_count": 9,
     "metadata": {},
     "output_type": "execute_result"
    }
   ],
   "source": [
    "PGLM.result_dict['ENSMUSG00000000555'].summary()"
   ]
  },
  {
   "cell_type": "code",
   "execution_count": 14,
   "metadata": {},
   "outputs": [],
   "source": [
    "DEGs = PGLM.Differerntial_analysis(threshold=0.01)"
   ]
  },
  {
   "cell_type": "code",
   "execution_count": 19,
   "metadata": {},
   "outputs": [
    {
     "data": {
      "text/plain": [
       "[Index(['ENSMUSG00000000901', 'ENSMUSG00000003882', 'ENSMUSG00000004113',\n",
       "        'ENSMUSG00000009628', 'ENSMUSG00000012428', 'ENSMUSG00000021190',\n",
       "        'ENSMUSG00000022037', 'ENSMUSG00000022150', 'ENSMUSG00000022747',\n",
       "        'ENSMUSG00000026768', 'ENSMUSG00000027750', 'ENSMUSG00000034488',\n",
       "        'ENSMUSG00000034570', 'ENSMUSG00000035131', 'ENSMUSG00000036172',\n",
       "        'ENSMUSG00000043421', 'ENSMUSG00000043505', 'ENSMUSG00000043931',\n",
       "        'ENSMUSG00000047867', 'ENSMUSG00000049134', 'ENSMUSG00000054435',\n",
       "        'ENSMUSG00000061086', 'ENSMUSG00000068417', 'ENSMUSG00000076617',\n",
       "        'ENSMUSG00000082596', 'ENSMUSG00000096020', 'ENSMUSG00000096452',\n",
       "        'ENSMUSG00000103609', 'ENSMUSG00000106497', 'ENSMUSG00000114210'],\n",
       "       dtype='object', name='Unnamed: 0'),\n",
       " array([3.34198713e-04, 1.01689503e-05, 4.59595412e-03, 8.10631242e-03,\n",
       "        3.12354185e-04, 1.33666019e-09, 5.71015245e-03, 6.61482005e-03,\n",
       "        5.60865675e-05, 6.90014031e-03, 1.82338813e-06, 7.23732345e-05,\n",
       "        2.64296902e-04, 4.17974634e-05, 4.86592910e-03, 1.65074539e-03,\n",
       "        2.88784098e-04, 2.15381644e-09, 8.47167243e-03, 1.56641001e-03,\n",
       "        1.35500558e-11, 2.66910208e-03, 5.71787882e-06, 3.41691743e-03,\n",
       "        3.80267535e-03, 2.41852201e-04, 2.57049101e-03, 1.75066429e-07,\n",
       "        5.84870963e-03, 6.91073905e-03])]"
      ]
     },
     "execution_count": 19,
     "metadata": {},
     "output_type": "execute_result"
    }
   ],
   "source": [
    "DEGs['Gata3']\n",
    "# the name of deg and the p-value"
   ]
  },
  {
   "cell_type": "code",
   "execution_count": 17,
   "metadata": {},
   "outputs": [
    {
     "data": {
      "text/plain": [
       "[Index(['ENSMUSG00000009628', 'ENSMUSG00000034488', 'ENSMUSG00000037922',\n",
       "        'ENSMUSG00000055675', 'ENSMUSG00000108353'],\n",
       "       dtype='object', name='Unnamed: 0'),\n",
       " array([0.0024663 , 0.0010276 , 0.00017619, 0.00296665, 0.00462703])]"
      ]
     },
     "execution_count": 17,
     "metadata": {},
     "output_type": "execute_result"
    }
   ],
   "source": [
    "DEGs['Zbtb17']"
   ]
  },
  {
   "cell_type": "code",
   "execution_count": null,
   "metadata": {},
   "outputs": [],
   "source": []
  }
 ],
 "metadata": {
  "kernelspec": {
   "display_name": "GLM",
   "language": "python",
   "name": "python3"
  },
  "language_info": {
   "codemirror_mode": {
    "name": "ipython",
    "version": 3
   },
   "file_extension": ".py",
   "mimetype": "text/x-python",
   "name": "python",
   "nbconvert_exporter": "python",
   "pygments_lexer": "ipython3",
   "version": "3.9.16"
  },
  "orig_nbformat": 4
 },
 "nbformat": 4,
 "nbformat_minor": 2
}
